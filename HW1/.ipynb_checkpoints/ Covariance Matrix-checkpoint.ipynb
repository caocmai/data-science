{
 "cells": [
  {
   "cell_type": "code",
   "execution_count": 26,
   "metadata": {},
   "outputs": [
    {
     "name": "stdout",
     "output_type": "stream",
     "text": [
      "[[2.88387196e+05 4.82462370e+03 3.30839201e+05]\n",
      " [4.82462370e+03 2.28178478e+03 1.60758731e+05]\n",
      " [3.30839201e+05 1.60758731e+05 1.16181825e+07]]\n"
     ]
    }
   ],
   "source": [
    "import pandas as pd\n",
    "import numpy as np\n",
    "\n",
    "df = pd.read_csv(\"rentals.csv\")\n",
    "\n",
    "area = df[\"area\"]\n",
    "rent_amount = df[\"rent amount (R$)\"]\n",
    "fire_insurance = df[\"fire insurance (R$)\"]\n",
    "\n",
    "mean_area = np.mean(area)\n",
    "mean_rent_amount = np.mean(rent_amount)\n",
    "mean_fire_insurance = np.mean(fire_insurance)\n",
    "\n",
    "np.var(area)\n",
    "\n",
    "df.head()\n",
    "\n",
    "colum = df[[\"area\", \"fire insurance (R$)\", \"rent amount (R$)\"]]\n",
    "\n",
    "# def cov_matrix_calculation(data):\n",
    "#     # calculate covariance matrix of the data\n",
    "#     cov_matx = np.cov(data, rowvar=False) # or can just use data.T as input\n",
    "#     return cov_matx\n",
    "# print(cov_matrix_calculation(colum))\n",
    "\n"
   ]
  },
  {
   "cell_type": "code",
   "execution_count": 16,
   "metadata": {},
   "outputs": [
    {
     "name": "stdout",
     "output_type": "stream",
     "text": [
      "[[0.         0.         0.        ]\n",
      " [0.         1.66666667 1.16666667]\n",
      " [0.         1.16666667 0.91666667]]\n"
     ]
    }
   ],
   "source": [
    "def cov_matrix_calculation(data):\n",
    "    # calculate covariance matrix of the data\n",
    "    cov_matx = np.cov(data, rowvar=False) # or can just use data.T as input\n",
    "    return cov_matx\n",
    "\n",
    "dataset = np.array([[1, 1, 1], [1, 2, 1], [1, 3, 2], [1, 4, 3]])\n",
    "print(cov_matrix_calculation(dataset))"
   ]
  },
  {
   "cell_type": "code",
   "execution_count": null,
   "metadata": {},
   "outputs": [],
   "source": []
  }
 ],
 "metadata": {
  "kernelspec": {
   "display_name": "Python 3",
   "language": "python",
   "name": "python3"
  },
  "language_info": {
   "codemirror_mode": {
    "name": "ipython",
    "version": 3
   },
   "file_extension": ".py",
   "mimetype": "text/x-python",
   "name": "python",
   "nbconvert_exporter": "python",
   "pygments_lexer": "ipython3",
   "version": "3.7.6"
  }
 },
 "nbformat": 4,
 "nbformat_minor": 4
}
