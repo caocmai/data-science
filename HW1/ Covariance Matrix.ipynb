{
 "cells": [
  {
   "cell_type": "code",
   "execution_count": 6,
   "metadata": {},
   "outputs": [
    {
     "name": "stdout",
     "output_type": "stream",
     "text": [
      "0         3300\n",
      "1         4960\n",
      "2         2800\n",
      "3         1112\n",
      "4          800\n",
      "         ...  \n",
      "10687     1478\n",
      "10688    15000\n",
      "10689     6000\n",
      "10690    12000\n",
      "10691     1400\n",
      "Name: rent amount (R$), Length: 10692, dtype: int64\n"
     ]
    }
   ],
   "source": [
    "import pandas as pd\n",
    "import numpy as np\n",
    "\n",
    "df = pd.read_csv(\"rentals.csv\")\n",
    "df.head()\n",
    "\n",
    "area = df[\"area\"]\n",
    "rent_amount = df[\"rent amount (R$)\"]\n"
   ]
  }
 ],
 "metadata": {
  "kernelspec": {
   "display_name": "Python 3",
   "language": "python",
   "name": "python3"
  },
  "language_info": {
   "codemirror_mode": {
    "name": "ipython",
    "version": 3
   },
   "file_extension": ".py",
   "mimetype": "text/x-python",
   "name": "python",
   "nbconvert_exporter": "python",
   "pygments_lexer": "ipython3",
   "version": "3.7.6"
  }
 },
 "nbformat": 4,
 "nbformat_minor": 4
}
