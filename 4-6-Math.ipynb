{
 "cells": [
  {
   "cell_type": "code",
   "execution_count": 10,
   "metadata": {
    "scrolled": true
   },
   "outputs": [
    {
     "name": "stdout",
     "output_type": "stream",
     "text": [
      "94.24777960769379\n"
     ]
    }
   ],
   "source": [
    "import math\n",
    "\n",
    "def circumference(radius):\n",
    "    circumference = 2 * math.pi * radius\n",
    "    return circumference\n",
    "\n",
    "print(circumference(15))\n",
    "\n",
    "\n",
    "def area_sphere(radius):\n",
    "    retur"
   ]
  }
 ],
 "metadata": {
  "kernelspec": {
   "display_name": "Python 3",
   "language": "python",
   "name": "python3"
  },
  "language_info": {
   "codemirror_mode": {
    "name": "ipython",
    "version": 3
   },
   "file_extension": ".py",
   "mimetype": "text/x-python",
   "name": "python",
   "nbconvert_exporter": "python",
   "pygments_lexer": "ipython3",
   "version": "3.7.6"
  }
 },
 "nbformat": 4,
 "nbformat_minor": 4
}
