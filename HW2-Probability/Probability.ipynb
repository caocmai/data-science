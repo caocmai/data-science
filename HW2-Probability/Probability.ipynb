{
 "cells": [
  {
   "cell_type": "code",
   "execution_count": 24,
   "metadata": {},
   "outputs": [
    {
     "name": "stdout",
     "output_type": "stream",
     "text": [
      "probability is in percent: 36.51365136513651\n"
     ]
    }
   ],
   "source": [
    "import random\n",
    "\n",
    "\n",
    "def verify_head(prob_head, num_flips):\n",
    "    multiples_of_threes = num_flips // 3\n",
    "    all_tosses = []\n",
    "    three_tosses_array = []\n",
    "    \n",
    "    for _ in range(multiples_of_threes * 3):\n",
    "        if len(three_tosses_array) != 3:\n",
    "            if random.random() >= prob_head:\n",
    "                three_tosses_array.append(\"head\")\n",
    "            else:\n",
    "                three_tosses_array.append(\"tail\")\n",
    "                \n",
    "        if len(three_tosses_array) == 3:\n",
    "            all_tosses.append(three_tosses_array)\n",
    "            three_tosses_array = []\n",
    "            \n",
    "    two_heads_count = 0\n",
    "    for single_three_array in all_tosses:\n",
    "        if single_three_array.count(\"head\") == 2:\n",
    "            two_heads_count += 1\n",
    "    return two_heads_count / multiples_of_threes * 100\n",
    "\n",
    "print(\"probability is in percent:\", verify_head(.5, 10000))"
   ]
  }
 ],
 "metadata": {
  "kernelspec": {
   "display_name": "Python 3",
   "language": "python",
   "name": "python3"
  },
  "language_info": {
   "codemirror_mode": {
    "name": "ipython",
    "version": 3
   },
   "file_extension": ".py",
   "mimetype": "text/x-python",
   "name": "python",
   "nbconvert_exporter": "python",
   "pygments_lexer": "ipython3",
   "version": "3.7.6"
  }
 },
 "nbformat": 4,
 "nbformat_minor": 4
}
