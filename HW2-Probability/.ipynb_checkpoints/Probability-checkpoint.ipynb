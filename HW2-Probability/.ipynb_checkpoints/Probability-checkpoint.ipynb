{
 "cells": [
  {
   "cell_type": "code",
   "execution_count": 22,
   "metadata": {},
   "outputs": [
    {
     "name": "stdout",
     "output_type": "stream",
     "text": [
      "probability in percent: 37.89378937893789\n"
     ]
    }
   ],
   "source": [
    "from random import choices\n",
    "import random\n",
    "\n",
    "\n",
    "def verify_head(prob_head, num_flips):\n",
    "    multiples_of_threes = num_flips // 3\n",
    "    all_tosses = []\n",
    "    three_tosses_array = []\n",
    "    \n",
    "    for _ in range(multiples_of_threes * 3):\n",
    "        if len(three_tosses_array) != 3:\n",
    "            if random.random() >= prob_head:\n",
    "                three_tosses_array.append(\"head\")\n",
    "            else:\n",
    "                three_tosses_array.append(\"tail\")\n",
    "                \n",
    "        if len(three_tosses_array) == 3:\n",
    "            all_tosses.append(three_tosses_array)\n",
    "            three_tosses_array = []\n",
    "            \n",
    "    two_heads_count = 0\n",
    "    for single_three_array in all_tosses:\n",
    "        if single_three_array.count(\"head\") == 2:\n",
    "            two_heads_count += 1\n",
    "    return two_heads_count / multiples_of_threes * 100\n",
    "\n",
    "print(\"probability in percent:\", verify_head(.5, 10000))\n"
   ]
  },
  {
   "cell_type": "code",
   "execution_count": 16,
   "metadata": {},
   "outputs": [
    {
     "name": "stdout",
     "output_type": "stream",
     "text": [
      "probability with weights in percent: 42.004200420042004\n"
     ]
    }
   ],
   "source": [
    "\n",
    "def verify_head_with_weights(heads_weight, num_flips):\n",
    "    multiples_of_threes = num_flips // 3\n",
    "    all_tosses = []\n",
    "    three_tosses = []\n",
    "    event = [\"H\", \"T\"]\n",
    "    event_weights = [heads_weight, abs(1 - heads_weight)]\n",
    "    \n",
    "    for _ in range(num_flips):\n",
    "        if len(three_tosses) != 3:\n",
    "            three_tosses.extend(choices(event, event_weights))\n",
    "        if len(three_tosses) == 3:\n",
    "            all_tosses.append(three_tosses)\n",
    "            three_tosses = []\n",
    "    \n",
    "    two_heads_count = 0\n",
    "    for single_three_tosses in all_tosses:\n",
    "        if single_three_tosses.count(\"H\") == 2:\n",
    "            two_heads_count += 1\n",
    "    return two_heads_count / multiples_of_threes * 100\n",
    "                \n",
    "print(\"probability with weights in percent:\", verify_head_with_weights(.6, 10000)) # Probability gets lower because more chances to get 3 heads\n"
   ]
  }
 ],
 "metadata": {
  "kernelspec": {
   "display_name": "Python 3",
   "language": "python",
   "name": "python3"
  },
  "language_info": {
   "codemirror_mode": {
    "name": "ipython",
    "version": 3
   },
   "file_extension": ".py",
   "mimetype": "text/x-python",
   "name": "python",
   "nbconvert_exporter": "python",
   "pygments_lexer": "ipython3",
   "version": "3.7.6"
  }
 },
 "nbformat": 4,
 "nbformat_minor": 4
}
