{
 "cells": [
  {
   "cell_type": "code",
   "execution_count": 31,
   "metadata": {
    "scrolled": true
   },
   "outputs": [
    {
     "name": "stdout",
     "output_type": "stream",
     "text": [
      "circumference 94.24777960769379\n",
      "area sphere 201.06192982974676\n",
      "area_trap 14.0\n",
      "mean 3.6666666666666665\n",
      "using np to find mean 3.6666666666666665\n",
      "for Population 2.2804\n",
      "for sample 2.5495097567963922\n"
     ]
    }
   ],
   "source": [
    "import math\n",
    "import numpy as np\n",
    "import statistics\n",
    "\n",
    "def circumference(radius):\n",
    "    circumference = 2 * math.pi * radius\n",
    "    return circumference\n",
    "\n",
    "print(\"circumference\", circumference(15))\n",
    "\n",
    "\n",
    "def area_sphere(radius):\n",
    "    return 4 * math.pi * (radius * radius)\n",
    "\n",
    "print(\"area sphere\", area_sphere(4))\n",
    "\n",
    "def area_trap(a, b, height):\n",
    "    return ((a + b) / 2) * height\n",
    "print(\"area_trap\", area_trap(2,5,4))\n",
    "\n",
    "series = [3,5,7,12,-3,-2]\n",
    "\n",
    "def mean(series):\n",
    "    total = 0\n",
    "    for i in range(len(series)):\n",
    "        total += series[i]\n",
    "        \n",
    "    return total/len(series)\n",
    "\n",
    "print(\"mean\", mean(series))\n",
    "print(\"using np to find mean\", np.mean(series))\n",
    "\n",
    "\n",
    "def standard_deviation(array):\n",
    "    mean = np.mean(array)\n",
    "    total = 0\n",
    "    for i in array:\n",
    "        total += (i - mean) ** 2\n",
    "        \n",
    "    return round(math.sqrt(total/len(array)), 4)\n",
    "\n",
    "\n",
    "print(\"for Population\", standard_deviation([1,4,7,2,6]))      \n",
    "print(\"for sample\", statistics.stdev([1,4,7,2,6]))\n",
    "\n",
    "\n",
    "\n",
    "\n"
   ]
  }
 ],
 "metadata": {
  "kernelspec": {
   "display_name": "Python 3",
   "language": "python",
   "name": "python3"
  },
  "language_info": {
   "codemirror_mode": {
    "name": "ipython",
    "version": 3
   },
   "file_extension": ".py",
   "mimetype": "text/x-python",
   "name": "python",
   "nbconvert_exporter": "python",
   "pygments_lexer": "ipython3",
   "version": "3.7.6"
  }
 },
 "nbformat": 4,
 "nbformat_minor": 4
}
