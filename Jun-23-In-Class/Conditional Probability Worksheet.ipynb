{
 "cells": [
  {
   "cell_type": "code",
   "execution_count": 2,
   "metadata": {},
   "outputs": [
    {
     "name": "stdout",
     "output_type": "stream",
     "text": [
      "1200\n"
     ]
    }
   ],
   "source": [
    "total_employees = 69 + 36 + 2 + 112 + 98 + 14 + 102 + 193 + 143 + 13 + 173 + 245\n",
    "print(total_employees)"
   ]
  },
  {
   "cell_type": "code",
   "execution_count": 8,
   "metadata": {
    "scrolled": true
   },
   "outputs": [
    {
     "name": "stdout",
     "output_type": "stream",
     "text": [
      "0.08916666666666667\n",
      "0.24666666666666667\n",
      "0.0016666666666666668\n",
      "0.010833333333333334\n",
      "0.0625\n",
      "0.004962779156327543\n"
     ]
    }
   ],
   "source": [
    "# Answers to problem 1\n",
    "a = (69 + 36 + 2) / total_employees\n",
    "print(a)\n",
    "\n",
    "b = (69 + 112 + 102 + 13) / total_employees\n",
    "print(b)\n",
    "\n",
    "c = (2) / total_employees\n",
    "print(c)\n",
    "\n",
    "d = (13) / total_employees\n",
    "print(d)\n",
    "\n",
    "e = (14) / (112 + 98 + 14)\n",
    "print(e)\n",
    "\n",
    "f = (2) / (2 + 13 + 143 + 245)\n",
    "print(f)"
   ]
  },
  {
   "cell_type": "code",
   "execution_count": 12,
   "metadata": {},
   "outputs": [
    {
     "name": "stdout",
     "output_type": "stream",
     "text": [
      "0.26666666666666666\n",
      "0.74\n",
      "0.17582417582417584\n"
     ]
    }
   ],
   "source": [
    "# Answers to problem 2\n",
    "a = 40 / (40 + 16 + 35 + 15 + 24 + 20)\n",
    "print(a)\n",
    "\n",
    "b = (40 + 16 + 35 + 20) / (40 + 16 + 35 + 15 + 24 + 20)\n",
    "print(b)\n",
    "\n",
    "c = 16 / (40 + 16 + 35)\n",
    "print(c)"
   ]
  },
  {
   "cell_type": "code",
   "execution_count": 16,
   "metadata": {
    "scrolled": true
   },
   "outputs": [
    {
     "name": "stdout",
     "output_type": "stream",
     "text": [
      "1.0\n",
      "0.7142857142857143\n",
      "0.5\n",
      "3.5\n"
     ]
    }
   ],
   "source": [
    "# Answers to problem 3\n",
    "\n",
    "total = 5 + 6 + 7 + 8 + 9 + 10 + 11 + 12 + 13 + 14\n",
    "\n",
    "a = total / total\n",
    "print(a)\n",
    "\n",
    "b = 5/7\n",
    "print(b)\n",
    "\n",
    "c = 3/6\n",
    "print(c)\n",
    "\n",
    "d = 7/2\n",
    "print(d)"
   ]
  },
  {
   "cell_type": "code",
   "execution_count": 20,
   "metadata": {},
   "outputs": [
    {
     "name": "stdout",
     "output_type": "stream",
     "text": [
      "0.0625\n"
     ]
    }
   ],
   "source": [
    "# Answer to problem 4\n",
    "walk = 0.25\n",
    "late_if_walk = 0.1\n",
    "bike = 0.75\n",
    "late_if_bike = 0.05\n",
    "\n",
    "late_prob = (walk * late_if_walk) + (bike * late_if_bike)\n",
    "print(late_prob)"
   ]
  },
  {
   "cell_type": "code",
   "execution_count": 6,
   "metadata": {},
   "outputs": [
    {
     "name": "stdout",
     "output_type": "stream",
     "text": [
      "0.616\n",
      "0.691\n",
      "0.8914616497829233\n"
     ]
    }
   ],
   "source": [
    "# Answer to problem 5\n",
    "p_sharon_cooks = 3/10\n",
    "p_lisa_cooks = 7/10\n",
    "\n",
    "# Find the probability that Lisa cooks dinner and they do not have pasta.\n",
    "p_lisa_no_pasta = p_lisa_cooks * (1 - 0.12)\n",
    "print(p_lisa_no_pasta)\n",
    "\n",
    "# c) Find the probability they do not have pasta.\n",
    "p_no_pasta = p_sharon_cooks * .25 + p_lisa_cooks * 0.88\n",
    "print(p_no_pasta)\n",
    "\n",
    "# d) Given that they do not have pasta, find the probability that Lisa cooked dinner.\n",
    "p_lisa_cooked = p_lisa_no_pasta / p_no_pasta\n",
    "print(p_lisa_cooked)"
   ]
  },
  {
   "cell_type": "code",
   "execution_count": 8,
   "metadata": {},
   "outputs": [
    {
     "name": "stdout",
     "output_type": "stream",
     "text": [
      "0.23076923076923078\n",
      "0.5\n"
     ]
    }
   ],
   "source": [
    "# Answer to problem 6\n",
    "# a) P(the letter chosen is a vowel | the letter falls in the first half of the alphabet)\n",
    "a = 3 / (26 / 2)\n",
    "print(a)\n",
    "\n",
    "# b) P(the letter falls in the first half of the alphabet | letter chosen is a vowel)\n",
    "b = 3 / 6\n",
    "print(b)"
   ]
  },
  {
   "cell_type": "code",
   "execution_count": 29,
   "metadata": {},
   "outputs": [
    {
     "name": "stdout",
     "output_type": "stream",
     "text": [
      "0.44999999999999996\n",
      "0.06\n"
     ]
    }
   ],
   "source": [
    "# Answer to problem 7\n",
    "# 80% chance canceled for light drizzle; 30% drizzle\n",
    "# 30% canceled heavy fog; 70% heavy fog \n",
    "\n",
    "p_cancel = (0.80 * 0.30) + (0.30 * 0.70)\n",
    "print(p_cancel)\n",
    "\n",
    "p_drizzle_not_canceled = 0.30 * 0.20\n",
    "print(p_drizzle_not_canceled)"
   ]
  },
  {
   "cell_type": "code",
   "execution_count": 16,
   "metadata": {},
   "outputs": [
    {
     "name": "stdout",
     "output_type": "stream",
     "text": [
      "0.16666666666666666\n",
      "0.6\n",
      "0.25\n",
      "0.33333333333333337\n",
      "0.125\n"
     ]
    }
   ],
   "source": [
    "# Answer to problem 8\n",
    "'''\n",
    "     5/6           1/6\n",
    "     X            not X\n",
    "2/5    3/5      1/4   3/4\n",
    "Y     not Y      Y   not Y\n",
    "'''\n",
    "\n",
    "b = 1/6\n",
    "print(b)\n",
    "\n",
    "c = 3/5\n",
    "print(c)\n",
    "\n",
    "d = 1/4\n",
    "print(d)\n",
    "\n",
    "e = (5/6) *(2/5)\n",
    "print(e)\n",
    "\n",
    "f = (1/6 * 3/4)\n",
    "print(f)"
   ]
  },
  {
   "cell_type": "code",
   "execution_count": 25,
   "metadata": {},
   "outputs": [
    {
     "name": "stdout",
     "output_type": "stream",
     "text": [
      "0.11676646706586827\n",
      "0.36792452830188677\n",
      "0.21823204419889503\n",
      "0.4720496894409938\n",
      "0.1437125748502994\n",
      "0.16022099447513813\n",
      "0.4892086330935252\n",
      "0.5107913669064749\n"
     ]
    }
   ],
   "source": [
    "# Answer to problem 9\n",
    "\n",
    "females = 39 + 48 + 85 + 62 + 71 + 29\n",
    "males = 67 + 58 + 76 + 54 + 68 + 39\n",
    "\n",
    "a = 39 / females\n",
    "print(a)\n",
    "\n",
    "b = 39 / (39 + 67)\n",
    "print(b)\n",
    "\n",
    "c = 79 / males\n",
    "print(c)\n",
    "\n",
    "d =  76 / (85 + 76)\n",
    "print(d)\n",
    "\n",
    "e = 48 / females\n",
    "print(e)\n",
    "\n",
    "f = 58 / males\n",
    "print(f)\n",
    "\n",
    "g = 68 / (71 + 68)\n",
    "print(g)\n",
    "\n",
    "h = 71 / (71 + 68)\n",
    "print(h)"
   ]
  },
  {
   "cell_type": "code",
   "execution_count": 27,
   "metadata": {},
   "outputs": [
    {
     "name": "stdout",
     "output_type": "stream",
     "text": [
      "0.5818181818181818\n",
      "0.5818181818181818\n"
     ]
    }
   ],
   "source": [
    "# Answer to problem 10\n",
    "\n",
    "p = 0.32 / 0.55\n",
    "print(p)\n"
   ]
  }
 ],
 "metadata": {
  "kernelspec": {
   "display_name": "Python 3",
   "language": "python",
   "name": "python3"
  },
  "language_info": {
   "codemirror_mode": {
    "name": "ipython",
    "version": 3
   },
   "file_extension": ".py",
   "mimetype": "text/x-python",
   "name": "python",
   "nbconvert_exporter": "python",
   "pygments_lexer": "ipython3",
   "version": "3.7.6"
  }
 },
 "nbformat": 4,
 "nbformat_minor": 4
}
