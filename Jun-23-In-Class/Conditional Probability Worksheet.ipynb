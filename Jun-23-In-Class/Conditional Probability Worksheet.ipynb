{
 "cells": [
  {
   "cell_type": "code",
   "execution_count": 2,
   "metadata": {},
   "outputs": [
    {
     "name": "stdout",
     "output_type": "stream",
     "text": [
      "1200\n"
     ]
    }
   ],
   "source": [
    "total_employees = 69 + 36 + 2 + 112 + 98 + 14 + 102 + 193 + 143 + 13 + 173 + 245\n",
    "print(total_employees)"
   ]
  },
  {
   "cell_type": "code",
   "execution_count": 8,
   "metadata": {
    "scrolled": true
   },
   "outputs": [
    {
     "name": "stdout",
     "output_type": "stream",
     "text": [
      "0.08916666666666667\n",
      "0.24666666666666667\n",
      "0.0016666666666666668\n",
      "0.010833333333333334\n",
      "0.0625\n",
      "0.004962779156327543\n"
     ]
    }
   ],
   "source": [
    "# Answers to problem 1\n",
    "a = (69 + 36 + 2) / total_employees\n",
    "print(a)\n",
    "\n",
    "b = (69 + 112 + 102 + 13) / total_employees\n",
    "print(b)\n",
    "\n",
    "c = (2) / total_employees\n",
    "print(c)\n",
    "\n",
    "d = (13) / total_employees\n",
    "print(d)\n",
    "\n",
    "e = (14) / (112 + 98 + 14)\n",
    "print(e)\n",
    "\n",
    "f = (2) / (2 + 13 + 143 + 245)\n",
    "print(f)"
   ]
  },
  {
   "cell_type": "code",
   "execution_count": 12,
   "metadata": {},
   "outputs": [
    {
     "name": "stdout",
     "output_type": "stream",
     "text": [
      "0.26666666666666666\n",
      "0.74\n",
      "0.17582417582417584\n"
     ]
    }
   ],
   "source": [
    "# Answers to problem 2\n",
    "a = 40 / (40 + 16 + 35 + 15 + 24 + 20)\n",
    "print(a)\n",
    "\n",
    "b = (40 + 16 + 35 + 20) / (40 + 16 + 35 + 15 + 24 + 20)\n",
    "print(b)\n",
    "\n",
    "c = 16 / (40 + 16 + 35)\n",
    "print(c)"
   ]
  },
  {
   "cell_type": "code",
   "execution_count": 16,
   "metadata": {
    "scrolled": true
   },
   "outputs": [
    {
     "name": "stdout",
     "output_type": "stream",
     "text": [
      "1.0\n",
      "0.7142857142857143\n",
      "0.5\n",
      "3.5\n"
     ]
    }
   ],
   "source": [
    "# Answers to problem 3\n",
    "\n",
    "total = 5 + 6 + 7 + 8 + 9 + 10 + 11 + 12 + 13 + 14\n",
    "\n",
    "a = total / total\n",
    "print(a)\n",
    "\n",
    "b = 5/7\n",
    "print(b)\n",
    "\n",
    "c = 3/6\n",
    "print(c)\n",
    "\n",
    "d = 7/2\n",
    "print(d)"
   ]
  },
  {
   "cell_type": "code",
   "execution_count": 20,
   "metadata": {},
   "outputs": [
    {
     "name": "stdout",
     "output_type": "stream",
     "text": [
      "0.0625\n"
     ]
    }
   ],
   "source": [
    "# Answer to problem 4\n",
    "walk = 0.25\n",
    "late_if_walk = 0.1\n",
    "bike = 0.75\n",
    "late_if_bike = 0.05\n",
    "\n",
    "late_prob = (walk * late_if_walk) + (bike * late_if_bike)\n",
    "print(late_prob)"
   ]
  },
  {
   "cell_type": "code",
   "execution_count": null,
   "metadata": {},
   "outputs": [],
   "source": [
    "# Answer to problem 5\n"
   ]
  }
 ],
 "metadata": {
  "kernelspec": {
   "display_name": "Python 3",
   "language": "python",
   "name": "python3"
  },
  "language_info": {
   "codemirror_mode": {
    "name": "ipython",
    "version": 3
   },
   "file_extension": ".py",
   "mimetype": "text/x-python",
   "name": "python",
   "nbconvert_exporter": "python",
   "pygments_lexer": "ipython3",
   "version": "3.7.6"
  }
 },
 "nbformat": 4,
 "nbformat_minor": 4
}
