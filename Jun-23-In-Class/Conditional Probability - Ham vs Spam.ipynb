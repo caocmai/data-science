{
 "cells": [
  {
   "cell_type": "code",
   "execution_count": 2,
   "metadata": {},
   "outputs": [
    {
     "name": "stdout",
     "output_type": "stream",
     "text": [
      "0.15384615384615385\n"
     ]
    }
   ],
   "source": [
    "# Question: What is the probability that an email be spam? What is the probability that an email be ham?\n",
    "\n",
    "p_spam = 4/6\n",
    "p_ham = 2/6\n",
    "\n",
    "# Question: We know an email is spam, what is the probability that password be a word in it? \n",
    "# (What is the frequency of password in a spam email?)\n",
    "spam = {\n",
    "    \"password\": 2,\n",
    "    \"review\": 1,\n",
    "    \"send\": 3,\n",
    "    \"us\": 3,\n",
    "    \"your\": 3,\n",
    "    \"account\": 1\n",
    "}\n",
    "\n",
    "p_password_given_spam = spam['password']/sum(spam.values())\n",
    "print(p_password_given_spam)\n"
   ]
  },
  {
   "cell_type": "code",
   "execution_count": 4,
   "metadata": {},
   "outputs": [
    {
     "name": "stdout",
     "output_type": "stream",
     "text": [
      "0.16666666666666666\n"
     ]
    }
   ],
   "source": [
    "# Question: We know an email is ham, what is the probability that password be a word in it? \n",
    "# (What is the frequency of password in a ham email?)\n",
    "\n",
    "ham = {\n",
    "    \"password\": 1,\n",
    "    \"review\": 2,\n",
    "    \"send\": 1,\n",
    "    \"us\": 1,\n",
    "    \"your\": 1,\n",
    "    \"account\": 0\n",
    "}\n",
    "\n",
    "p_password_given_ham = ham['password']/sum(ham.values())\n",
    "print(p_password_given_ham)"
   ]
  },
  {
   "cell_type": "code",
   "execution_count": 8,
   "metadata": {},
   "outputs": [
    {
     "name": "stdout",
     "output_type": "stream",
     "text": [
      "probabilty password 0.1581196581196581\n",
      "probability spam given password 0.6486486486486487\n"
     ]
    }
   ],
   "source": [
    "# Question: Assume we have seen password in an email, what is the probability that the email be spam?\n",
    "\n",
    "p_spam = 4/6\n",
    "p_ham = 2/6\n",
    "\n",
    "p_password = p_password_given_spam*p_spam + p_password_given_ham*p_ham \n",
    "print(\"probabilty password\", p_password)\n",
    "\n",
    "p_spam_given_password = p_password_given_spam*p_spam/p_password\n",
    "print(\"probability spam given password\", p_spam_given_password)"
   ]
  },
  {
   "cell_type": "code",
   "execution_count": 11,
   "metadata": {},
   "outputs": [
    {
     "name": "stdout",
     "output_type": "stream",
     "text": [
      "password\n",
      "0.6486486486486487\n",
      "review\n",
      "0.31578947368421056\n",
      "send\n",
      "0.7346938775510204\n",
      "us\n",
      "0.7346938775510204\n",
      "your\n",
      "0.7346938775510204\n",
      "account\n",
      "1.0\n"
     ]
    }
   ],
   "source": [
    "p_spam = 4/6\n",
    "p_ham = 2/6\n",
    "ls1 = []\n",
    "ls2 = []\n",
    "\n",
    "spam = {\n",
    "    \"password\": 2,\n",
    "    \"review\": 1,\n",
    "    \"send\": 3,\n",
    "    \"us\": 3,\n",
    "    \"your\": 3,\n",
    "    \"account\": 1\n",
    "}\n",
    "\n",
    "ham = {\n",
    "    \"password\": 1,\n",
    "    \"review\": 2,\n",
    "    \"send\": 1,\n",
    "    \"us\": 1,\n",
    "    \"your\": 1,\n",
    "    \"account\": 0\n",
    "}\n",
    "\n",
    "\n",
    "for i in spam:\n",
    "    print(i)\n",
    "    p_word_given_spam = spam[i]/sum(spam.values())\n",
    "    p_word_given_ham = ham[i]/sum(ham.values())\n",
    "    # obtain the probability of each word by assuming the email is spam\n",
    "    p_word = p_word_given_spam * p_spam + p_word_given_ham * p_ham\n",
    "\n",
    "    # obtain the probability of each word by assuming the email is ham \n",
    "    \n",
    "    \n",
    "    # obtain the probability that for a seen word it belongs to spam email\n",
    "    p_spam_for_word = p_word_given_spam * p_spam / p_word\n",
    "    # obtain the probability that for a seen word it belongs to ham email\n",
    "#     p_ham_for_word = p_word_given_spam * p_ham / p_word\n",
    "    print(p_spam_for_word)\n",
    "\n",
    "    "
   ]
  },
  {
   "cell_type": "code",
   "execution_count": 15,
   "metadata": {},
   "outputs": [
    {
     "name": "stdout",
     "output_type": "stream",
     "text": [
      "3.5\n",
      "[6 3 6 6 5 3 4 1 1 4 6 6 1 6 5 3 1 6 6 6 4 3 3 5 6 1 6 6 1 6 3 3 1 3 1 2 5\n",
      " 2 6 6 3 6 5 3 5 2 5 6 2 6 2 1 6 6 2 3 2 4 2 3 6 4 3 2 2 3 2 5 3 5 2 5 6 5\n",
      " 1 4 4 3 6 1 5 6 5 4 2 6 4 6 1 6 5 2 2 4 2 2 6 1 3 3 2 3 5 3 5 3 6 5 2 2 3\n",
      " 5 3 2 2 6 1 4 3 3 3 4 6 2 3 6 4 3 2 6 1 1 2 1 6 1 3 4 6 3 1 5 6 4 6 6 5 6\n",
      " 6 1 3 4 2 3 5 4 4 3 1 1 6 3 6 1 4 4 1 2 5 1 3 1 3 2 6 2 2 4 1 4 3 6 1 4 2\n",
      " 3 4 6 3 4 5 5 6 2 6 4 6 3 3 6 4 3 3 1 5 6 2 2 5 6 4 5 5 6 2 5 4 1 4 4 6 2\n",
      " 1 4 5 4 5 6 3 4 4 2 4 3 6 2 2 4 4 2 4 3 3 3 6 1 6 2 5 3 3 1 6 3 6 2 4 5 1\n",
      " 3 2 6 4 5 2 2 1 4 3 4 5 1 4 3 3 2 2 5 5 2 5 1 6 2 1 5 6 6 6 1 5 3 2 3 4 3\n",
      " 4 3 3 6 6 2 2 1 2 6 5 4 6 1 3 5 2 3 4 5 3 1 3 6 3 2 4 5 2 6 2 2 4 5 2 3 4\n",
      " 5 4 5 4 6 1 3 2 5 1 1 3 3 2 1 6 5 2 5 1 6 6 5 4 4 2 4 6 3 4 4 2 2 2 1 6 5\n",
      " 5 4 2 1 4 1 1 6 3 2 6 2 3 2 4 1 5 6 5 6 4 5 3 1 1 4 4 2 6 3 6 3 2 5 6 3 4\n",
      " 2 3 1 3 1 2 1 3 1 2 2 1 5 3 1 4 5 5 3 3 2 6 3 1 6 1 3 6 6 2 4 4 3 6 1 6 4\n",
      " 6 3 6 5 5 3 1 2 4 6 2 6 6 5 1 2 1 5 1 2 4 4 3 1 5 1 2 5 1 4 2 6 1 2 3 6 1\n",
      " 4 1 6 2 4 6 2 5 4 3 1 5 1 5 5 1 6 5 1 1 3 2 3 3 3 1 4 5 6 2 5 5 1 1 1 6 4\n",
      " 4 6 1 2 1 1 2 5 1 1 1 2 6 4 4 5 6 3 3 4 5 2 2 5 2 6 2 6 2 4 2 5 4 5 3 4 2\n",
      " 2 3 6 5 1 3 3 3 2 3 5 2 1 2 4 5 2 2 5 2 5 4 4 2 1 4 1 4 4 4 1 6 1 6 6 4 4\n",
      " 5 4 1 5 1 4 5 6 5 4 4 6 3 2 1 5 5 6 5 6 2 4 4 2 4 2 6 3 6 6 3 4 1 1 3 3 5\n",
      " 2 3 2 2 2 5 6 6 3 3 4 4 3 5 4 6 1 1 6 4 2 1 1 1 1 6 4 5 5 2 4 5 1 4 5 3 6\n",
      " 3 1 4 3 3 5 3 5 6 1 2 4 6 1 5 6 5 2 6 1 4 3 4 5 2 5 1 2 6 2 1 2 2 1 1 3 4\n",
      " 1 6 2 2 1 6 2 3 6 6 4 1 3 1 1 1 6 3 2 1 4 3 3 4 6 1 4 6 2 3 6 3 2 6 4 3 1\n",
      " 5 2 3 4 3 1 4 2 1 3 3 3 5 3 5 6 2 2 1 4 2 6 3 5 5 3 3 2 3 4 1 4 2 5 4 5 3\n",
      " 6 3 1 3 2 4 6 1 4 1 4 2 1 5 2 4 2 2 6 1 6 4 6 4 4 2 6 6 5 2 1 1 1 1 4 5 1\n",
      " 5 6 5 4 1 1 4 1 5 6 4 5 5 6 4 5 2 6 2 6 6 5 6 6 4 5 1 5 5 1 6 2 6 4 4 5 1\n",
      " 1 3 6 4 2 3 6 5 3 2 2 5 3 1 6 4 3 1 2 5 2 3 5 5 6 5 2 3 2 3 2 1 2 6 6 4 5\n",
      " 3 4 4 1 3 1 1 1 1 4 1 1 4 1 4 3 1 2 2 1 1 3 3 6 5 4 2 5 4 4 5 2 2 4 3 6 5\n",
      " 3 3 5 1 1 1 2 1 5 1 3 4 6 3 5 3 6 5 6 1 1 3 3 6 2 6 6 1 6 5 5 5 5 2 5 4 4\n",
      " 6 5 6 3 2 1 5 6 1 3 3 6 3 1 6 5 4 2 2 3 6 4 5 3 6 1 3 2 5 4 3 1 3 3 1 5 5\n",
      " 2]\n",
      "3.485\n",
      "3.485\n"
     ]
    }
   ],
   "source": [
    "# Quiz: Compute the expected value of a fair dice\n",
    "e_x = (1 * 1/6) + (2 * 1/6) + (3 * 1/6) + (4 * 1/6) + (5 * 1/6) + (6 * 1/6)\n",
    "print(e_x)\n",
    "                                                                   \n",
    "# We can show that E(X) is the mean of the random variable\n",
    "import numpy as np\n",
    "# lets roll the dice 1000 times \n",
    "dice = np.random.randint(low=1.0, high=7.0, size=1000)\n",
    "print(dice)\n",
    "# Compute the mean of dice list\n",
    "print(np.mean(dice))\n",
    "print(sum(dice)/len(dice))                                                                   "
   ]
  }
 ],
 "metadata": {
  "kernelspec": {
   "display_name": "Python 3",
   "language": "python",
   "name": "python3"
  },
  "language_info": {
   "codemirror_mode": {
    "name": "ipython",
    "version": 3
   },
   "file_extension": ".py",
   "mimetype": "text/x-python",
   "name": "python",
   "nbconvert_exporter": "python",
   "pygments_lexer": "ipython3",
   "version": "3.7.6"
  }
 },
 "nbformat": 4,
 "nbformat_minor": 4
}
