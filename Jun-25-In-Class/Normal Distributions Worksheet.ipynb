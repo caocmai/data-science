{
 "cells": [
  {
   "cell_type": "markdown",
   "metadata": {},
   "source": [
    "## Answers to worksheet\n",
    "<p> work sheet in folder <p>"
   ]
  },
  {
   "cell_type": "code",
   "execution_count": 17,
   "metadata": {},
   "outputs": [
    {
     "name": "stdout",
     "output_type": "stream",
     "text": [
      "what is his corresponding z-score 4.333333333333333\n",
      "what proportion of men are taller than him 1e-05\n"
     ]
    }
   ],
   "source": [
    "## Answers to worksheet \n",
    "#1d\n",
    "z_score_64th = 0.306\n",
    "\n",
    "#1e\n",
    "z_score_middle = 0\n",
    "\n",
    "#1f\n",
    "z_score_24th = -0.7\n",
    "\n",
    "#2a\n",
    "\"\"\"\n",
    "z = x - mean / std\n",
    "\"\"\"\n",
    "z = (83 - 70) / 3\n",
    "print(\"what is his corresponding z-score\", z)\n",
    "\n",
    "#2b\n",
    "b = 0.00001\n",
    "print(\"what proportion of men are taller than him\", b)\n",
    "\n",
    "# 3d\n",
    "# 2.1 = x - 150 / 10"
   ]
  },
  {
   "cell_type": "code",
   "execution_count": 9,
   "metadata": {},
   "outputs": [
    {
     "name": "stdout",
     "output_type": "stream",
     "text": [
      "3a. lookup z of -2.0: 0.02275\n",
      "lookup z of -2.5: 0.0062097\n",
      "3b. so it's 1 - z(value):  0.9937903\n",
      "z lookup is: 0.9937903, z_other lookup is: 0.69146\n",
      "3c. subtracting the two gives us:  0.30233030000000005\n",
      "3d. 171.0\n"
     ]
    }
   ],
   "source": [
    "\n",
    "#3a\n",
    "z = (130 - 150) / 10\n",
    "print(f\"3a. lookup z of {z}: 0.02275\")\n",
    "\n",
    "#3b\n",
    "z = (125 - 150) / 10\n",
    "print(f\"lookup z of {z}: 0.0062097\")\n",
    "print(\"3b. so it's 1 - z(value): \", 1 - 0.0062097)\n",
    "\n",
    "#3c\n",
    "z = (125 - 150) / 10\n",
    "z_other = (155 - 150) / 10\n",
    "print(\"z lookup is: 0.9937903, z_other lookup is: 0.69146\")\n",
    "print(\"3c. subtracting the two gives us: \", 0.9937903 - 0.69146)\n",
    "\n",
    "#3d\n",
    "length = (2.1 * 10) + 150\n",
    "print(\"3d.\", length)\n"
   ]
  },
  {
   "cell_type": "code",
   "execution_count": 23,
   "metadata": {},
   "outputs": [
    {
     "name": "stdout",
     "output_type": "stream",
     "text": [
      "4a. the percentage of males with BMI less than 20.1 is, 15.7 percent\n",
      "4b the percentages of males with BMI greater than 12 is, 97.9 percent\n",
      "4c. the BMI values that correspond to the middle 99.7% of the distribution is, 27.9 percent\n"
     ]
    }
   ],
   "source": [
    "\n",
    "\n",
    "#4a Using the 68-95-99.7 rule\n",
    "place = 27.9 - 7.8\n",
    "percentage_below20 = 13.6 + 2.1\n",
    "print(\"4a. the percentage of males with BMI less than 20.1 is,\", percentage_below20, \"percent\")\n",
    "\n",
    "#4b \n",
    "# print(27.9 - (7.8 * 2))\n",
    "percentage_greater_than12 = 100 - 2.1\n",
    "print(\"4b the percentages of males with BMI greater than 12 is,\", percentage_greater_than12, \"percent\")\n",
    "\n",
    "#4c\n",
    "c = 27.9\n",
    "\n",
    "print(\"4c. the BMI values that correspond to the middle 99.7% of the distribution is,\", c, \"percent\")\n"
   ]
  }
 ],
 "metadata": {
  "kernelspec": {
   "display_name": "Python 3",
   "language": "python",
   "name": "python3"
  },
  "language_info": {
   "codemirror_mode": {
    "name": "ipython",
    "version": 3
   },
   "file_extension": ".py",
   "mimetype": "text/x-python",
   "name": "python",
   "nbconvert_exporter": "python",
   "pygments_lexer": "ipython3",
   "version": "3.7.6"
  }
 },
 "nbformat": 4,
 "nbformat_minor": 4
}
