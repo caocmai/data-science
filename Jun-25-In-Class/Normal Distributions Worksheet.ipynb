{
 "cells": [
  {
   "cell_type": "code",
   "execution_count": 14,
   "metadata": {},
   "outputs": [
    {
     "name": "stdout",
     "output_type": "stream",
     "text": [
      "4.333333333333333\n",
      "-2.0\n",
      "lookup z of -2.0: 0.02275\n",
      "-2.5\n",
      "lookup z of -2.5: 0.0062097\n",
      "so it's 1 - z(value):  0.9937903\n",
      "z lookup is: 0.9937903, z_other lookup is: 0.69146\n",
      "subtracting the two gives us:  0.30233030000000005\n",
      "171.0\n",
      "15.7 percent\n",
      "12.299999999999999\n",
      "97.9\n"
     ]
    }
   ],
   "source": [
    "#1d\n",
    "z_score_64th = 0.306\n",
    "\n",
    "#1e\n",
    "z_score_middle = 0\n",
    "\n",
    "#1f\n",
    "z_score_24th = -0.7\n",
    "\n",
    "#2a\n",
    "\"\"\"\n",
    "z = x - mean / std\n",
    "\"\"\"\n",
    "z = (83 - 70) / 3\n",
    "print(z)\n",
    "\n",
    "#2b\n",
    "b = 0.00001\n",
    "\n",
    "#3a\n",
    "z = (130 - 150) / 10\n",
    "print(z)\n",
    "print(f\"lookup z of {z}: 0.02275\")\n",
    "\n",
    "#3b\n",
    "z = (125 - 150) / 10\n",
    "print(z)\n",
    "print(f\"lookup z of {z}: 0.0062097\")\n",
    "print(\"so it's 1 - z(value): \", 1 - 0.0062097)\n",
    "\n",
    "#3c\n",
    "z = (125 - 150) / 10\n",
    "z_other = (155 - 150) / 10\n",
    "print(\"z lookup is: 0.9937903, z_other lookup is: 0.69146\")\n",
    "print(\"subtracting the two gives us: \", 0.9937903 - 0.69146)\n",
    "\n",
    "#3d\n",
    "# 2.1 = x - 150 / 10\n",
    "\n",
    "length = (2.1 * 10) + 150\n",
    "print(length)\n",
    "\n",
    "#4a Using the 68-95-99.7 rule\n",
    "place = 27.9 - 7.8\n",
    "percentage_below20 = 13.6 + 2.1\n",
    "print(percentage_below20, \"percent\")\n",
    "\n",
    "#4b \n",
    "print(27.9 - (7.8 * 2))\n",
    "percentage_greater_than12 = 100 - 2.1\n",
    "print(percentage_greater_than12)\n",
    "\n",
    "#4c\n",
    "c = 27.9\n"
   ]
  }
 ],
 "metadata": {
  "kernelspec": {
   "display_name": "Python 3",
   "language": "python",
   "name": "python3"
  },
  "language_info": {
   "codemirror_mode": {
    "name": "ipython",
    "version": 3
   },
   "file_extension": ".py",
   "mimetype": "text/x-python",
   "name": "python",
   "nbconvert_exporter": "python",
   "pygments_lexer": "ipython3",
   "version": "3.7.6"
  }
 },
 "nbformat": 4,
 "nbformat_minor": 4
}
