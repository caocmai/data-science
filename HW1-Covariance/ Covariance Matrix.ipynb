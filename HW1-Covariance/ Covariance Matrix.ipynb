{
 "cells": [
  {
   "cell_type": "code",
   "execution_count": 33,
   "metadata": {
    "scrolled": true
   },
   "outputs": [
    {
     "name": "stdout",
     "output_type": "stream",
     "text": [
      "my covariance function: 288387.1963564295\n",
      "np covariance function: 288387.196356425\n",
      "np variance function: 288360.2241158425\n"
     ]
    }
   ],
   "source": [
    "import pandas as pd\n",
    "import numpy as np\n",
    "\n",
    "df = pd.read_csv(\"rentals.csv\")\n",
    "\n",
    "area = df[\"area\"]\n",
    "rent_amount = df[\"rent amount (R$)\"]\n",
    "fire_insurance = df[\"fire insurance (R$)\"]\n",
    "\n",
    "mean_area = np.mean(area)\n",
    "mean_rent_amount = np.mean(rent_amount)\n",
    "mean_fire_insurance = np.mean(fire_insurance)\n",
    "df.head()\n",
    "\n",
    "#Helper function to return number to 4 decimal places\n",
    "def three_decimals(n):\n",
    "    return float(f'{n:.4f}')\n",
    "\n",
    "def custom_cov(dataset1, dataset2):\n",
    "    dataset1_mean = np.mean(dataset1)\n",
    "    dataset2_mean = np.mean(dataset2)\n",
    "    start = 0\n",
    "    total = 0\n",
    "    \n",
    "    while start < len(dataset1):\n",
    "        total += (dataset1[start] - dataset1_mean) * (dataset2[start] - dataset2_mean)\n",
    "        start += 1\n",
    "        \n",
    "    return total / (len(dataset1) - 1) # Subtracting 1 matches up to np variance function \n",
    "\n",
    "print(\"my covariance function:\", custom_cov(area, area))\n",
    "\n",
    "print(\"np covariance function:\", np.cov(area, area)[0][1])\n",
    "print(\"np variance function:\", np.var(area)) # A little of, however if I take out subtracting one for the return in function then matches\n",
    "\n",
    "\"\"\"\n",
    "X = area\n",
    "Y = rent amount\n",
    "Z = fire insurance\n",
    "\"\"\"\n",
    "\n",
    "# Asserting (X, Y)\n",
    "assert three_decimals(custom_cov(area, rent_amount)) == three_decimals(np.cov(area, rent_amount)[0][1])\n",
    "# Asserting (X, Z)\n",
    "assert three_decimals(custom_cov(area, fire_insurance)) == three_decimals(np.cov(area, fire_insurance)[0][1])\n",
    "# Asserting (Y, Z)\n",
    "assert three_decimals(custom_cov(rent_amount, fire_insurance)) == three_decimals(np.cov(rent_amount, fire_insurance)[0][1])\n",
    "# Asserting (X, X)\n",
    "assert three_decimals(custom_cov(area, area)) == three_decimals(np.cov(area, area)[0][1])\n",
    "# Asserting (Y, Y)\n",
    "assert three_decimals(custom_cov(rent_amount, rent_amount)) == three_decimals(np.cov(rent_amount, rent_amount)[0][1])\n",
    "# Asserting (Z, Z)\n",
    "assert three_decimals(custom_cov(fire_insurance, fire_insurance)) == three_decimals(np.cov(fire_insurance, fire_insurance)[0][1])\n",
    "## All assertions passed without errors\n"
   ]
  },
  {
   "cell_type": "code",
   "execution_count": 6,
   "metadata": {},
   "outputs": [
    {
     "name": "stdout",
     "output_type": "stream",
     "text": [
      "[[0.         0.         0.        ]\n",
      " [0.         1.66666667 1.16666667]\n",
      " [0.         1.16666667 0.91666667]]\n",
      "\n",
      " matrix for my rental property data\n",
      "[[2.88387196e+05 4.82462370e+03 3.30839201e+05]\n",
      " [4.82462370e+03 2.28178478e+03 1.60758731e+05]\n",
      " [3.30839201e+05 1.60758731e+05 1.16181825e+07]]\n"
     ]
    }
   ],
   "source": [
    "\n",
    "# Get a column of data\n",
    "column = df[[\"area\", \"fire insurance (R$)\", \"rent amount (R$)\"]]\n",
    "\n",
    "def cov_matrix_calculation(data):\n",
    "    # calculate covariance matrix of the data\n",
    "    cov_matx = np.cov(data, rowvar=False) # or can just use data.T as input\n",
    "    return cov_matx\n",
    "\n",
    "dataset = np.array([[1, 1, 1], [1, 2, 1], [1, 3, 2], [1, 4, 3]])\n",
    "print(cov_matrix_calculation(dataset))\n",
    "print(\"\\n matrix for my rental property data\")\n",
    "print(cov_matrix_calculation(column))"
   ]
  },
  {
   "cell_type": "code",
   "execution_count": null,
   "metadata": {},
   "outputs": [],
   "source": []
  }
 ],
 "metadata": {
  "kernelspec": {
   "display_name": "Python 3",
   "language": "python",
   "name": "python3"
  },
  "language_info": {
   "codemirror_mode": {
    "name": "ipython",
    "version": 3
   },
   "file_extension": ".py",
   "mimetype": "text/x-python",
   "name": "python",
   "nbconvert_exporter": "python",
   "pygments_lexer": "ipython3",
   "version": "3.7.6"
  }
 },
 "nbformat": 4,
 "nbformat_minor": 4
}
