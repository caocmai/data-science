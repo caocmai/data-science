{
 "cells": [
  {
   "cell_type": "code",
   "execution_count": 40,
   "metadata": {},
   "outputs": [
    {
     "name": "stdout",
     "output_type": "stream",
     "text": [
      "my covariance function : 288360.2241158425\n",
      "np covariance function: 288387.196356425\n",
      "np variance function: 288360.2241158425\n",
      "my covariance funtion test 2 116.88\n",
      "matches\n"
     ]
    }
   ],
   "source": [
    "import pandas as pd\n",
    "import numpy as np\n",
    "\n",
    "df = pd.read_csv(\"rentals.csv\")\n",
    "\n",
    "area = df[\"area\"]\n",
    "rent_amount = df[\"rent amount (R$)\"]\n",
    "fire_insurance = df[\"fire insurance (R$)\"]\n",
    "\n",
    "mean_area = np.mean(area)\n",
    "mean_rent_amount = np.mean(rent_amount)\n",
    "mean_fire_insurance = np.mean(fire_insurance)\n",
    "df.head()\n",
    "\n",
    "\n",
    "def custom_cov(n1, n2):\n",
    "    n1_mean = np.mean(n1)\n",
    "    n2_mean = np.mean(n2)\n",
    "    start = 0\n",
    "    total = 0\n",
    "    \n",
    "    while start < len(n1):\n",
    "        total += (n1[start] - n1_mean) * (n2[start] - n2_mean)\n",
    "        start += 1\n",
    "        \n",
    "    return total / (len(n1) - 1) # Subtracting 1 matches up to np variance function \n",
    "\n",
    "print(\"my covariance function :\", custom_cov(area, area))\n",
    "print(\"np covariance function:\", np.cov(area))\n",
    "print(\"np variance function:\", np.var(area)) # A little of, however if I take out subtracting one for the run then matches\n",
    "    \n",
    "# Get a column of data\n",
    "column = df[[\"area\", \"fire insurance (R$)\", \"rent amount (R$)\"]]"
   ]
  },
  {
   "cell_type": "code",
   "execution_count": 28,
   "metadata": {},
   "outputs": [
    {
     "name": "stdout",
     "output_type": "stream",
     "text": [
      "[[0.         0.         0.        ]\n",
      " [0.         1.66666667 1.16666667]\n",
      " [0.         1.16666667 0.91666667]]\n",
      "\n",
      " matrix for my rental property data\n",
      "[[2.88387196e+05 4.82462370e+03 3.30839201e+05]\n",
      " [4.82462370e+03 2.28178478e+03 1.60758731e+05]\n",
      " [3.30839201e+05 1.60758731e+05 1.16181825e+07]]\n"
     ]
    }
   ],
   "source": [
    "def cov_matrix_calculation(data):\n",
    "    # calculate covariance matrix of the data\n",
    "    cov_matx = np.cov(data, rowvar=False) # or can just use data.T as input\n",
    "    return cov_matx\n",
    "\n",
    "dataset = np.array([[1, 1, 1], [1, 2, 1], [1, 3, 2], [1, 4, 3]])\n",
    "print(cov_matrix_calculation(dataset))\n",
    "print(\"\\n matrix for my rental property data\")\n",
    "print(cov_matrix_calculation(colum))"
   ]
  },
  {
   "cell_type": "code",
   "execution_count": null,
   "metadata": {},
   "outputs": [],
   "source": []
  }
 ],
 "metadata": {
  "kernelspec": {
   "display_name": "Python 3",
   "language": "python",
   "name": "python3"
  },
  "language_info": {
   "codemirror_mode": {
    "name": "ipython",
    "version": 3
   },
   "file_extension": ".py",
   "mimetype": "text/x-python",
   "name": "python",
   "nbconvert_exporter": "python",
   "pygments_lexer": "ipython3",
   "version": "3.7.6"
  }
 },
 "nbformat": 4,
 "nbformat_minor": 4
}
